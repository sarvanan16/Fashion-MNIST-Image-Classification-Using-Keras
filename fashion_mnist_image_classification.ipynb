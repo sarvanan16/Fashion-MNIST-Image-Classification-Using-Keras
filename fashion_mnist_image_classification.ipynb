{
 "cells": [
  {
   "cell_type": "code",
   "execution_count": 1,
   "metadata": {},
   "outputs": [],
   "source": [
    "from tensorflow import keras"
   ]
  },
  {
   "cell_type": "code",
   "execution_count": 2,
   "metadata": {},
   "outputs": [],
   "source": [
    "#load the dataset\n",
    "(train_images,train_labels),(test_images,test_labels)=keras.datasets.fashion_mnist.load_data()\n",
    "train_labels\n",
    "class_names = ['T-shirt/top', 'Trouser', 'Pullover', 'Dress', 'Coat',\n",
    "               'Sandal', 'Shirt', 'Sneaker', 'Bag', 'Ankle boot']"
   ]
  },
  {
   "cell_type": "code",
   "execution_count": 3,
   "metadata": {},
   "outputs": [
    {
     "data": {
      "text/plain": [
       "<Figure size 640x480 with 1 Axes>"
      ]
     },
     "metadata": {},
     "output_type": "display_data"
    }
   ],
   "source": [
    "#display trian image\n",
    "import matplotlib.pyplot as plt\n",
    "plt.imshow(train_images[0])\n",
    "plt.show()"
   ]
  },
  {
   "cell_type": "code",
   "execution_count": 4,
   "metadata": {},
   "outputs": [],
   "source": [
    "#preprocess images\n",
    "train_images=train_images/255\n",
    "test_images=test_images/255"
   ]
  },
  {
   "cell_type": "code",
   "execution_count": 5,
   "metadata": {},
   "outputs": [],
   "source": [
    "#define neural network\n",
    "def create_model():\n",
    "    model=keras.Sequential([\n",
    "    keras.layers.Flatten(input_shape=(28,28)),\n",
    "    keras.layers.Dense(128,activation='relu'),\n",
    "    keras.layers.Dense(10,activation='softmax')])\n",
    "    model.compile(optimizer='adam',\n",
    "                 loss='sparse_categorical_crossentropy',\n",
    "                 metrics=['accuracy'])\n",
    "    return model"
   ]
  },
  {
   "cell_type": "code",
   "execution_count": 6,
   "metadata": {},
   "outputs": [
    {
     "name": "stdout",
     "output_type": "stream",
     "text": [
      "WARNING:tensorflow:From C:\\Users\\Sarvanan\\Anaconda3\\lib\\site-packages\\tensorflow\\python\\ops\\init_ops.py:1251: calling VarianceScaling.__init__ (from tensorflow.python.ops.init_ops) with dtype is deprecated and will be removed in a future version.\n",
      "Instructions for updating:\n",
      "Call initializer instance with the dtype argument instead of passing it to the constructor\n",
      "Epoch 1/10\n",
      "60000/60000 [==============================] - 10s 162us/sample - loss: 0.4986 - acc: 0.8254\n",
      "Epoch 2/10\n",
      "60000/60000 [==============================] - 9s 142us/sample - loss: 0.3788 - acc: 0.8637\n",
      "Epoch 3/10\n",
      "60000/60000 [==============================] - 8s 141us/sample - loss: 0.3386 - acc: 0.8765\n",
      "Epoch 4/10\n",
      "60000/60000 [==============================] - 8s 141us/sample - loss: 0.3144 - acc: 0.8848\n",
      "Epoch 5/10\n",
      "60000/60000 [==============================] - 8s 141us/sample - loss: 0.2939 - acc: 0.8914\n",
      "Epoch 6/10\n",
      "60000/60000 [==============================] - 8s 140us/sample - loss: 0.2798 - acc: 0.8971\n",
      "Epoch 7/10\n",
      "60000/60000 [==============================] - 9s 142us/sample - loss: 0.2704 - acc: 0.8991\n",
      "Epoch 8/10\n",
      "60000/60000 [==============================] - 8s 136us/sample - loss: 0.2583 - acc: 0.9031\n",
      "Epoch 9/10\n",
      "60000/60000 [==============================] - 9s 144us/sample - loss: 0.2488 - acc: 0.9064\n",
      "Epoch 10/10\n",
      "60000/60000 [==============================] - 8s 140us/sample - loss: 0.2387 - acc: 0.9109s - loss\n"
     ]
    },
    {
     "data": {
      "text/plain": [
       "<tensorflow.python.keras.callbacks.History at 0x1be74eb8ac8>"
      ]
     },
     "execution_count": 6,
     "metadata": {},
     "output_type": "execute_result"
    }
   ],
   "source": [
    "#train the model\n",
    "model = create_model()\n",
    "model.fit(train_images,train_labels,epochs=10)"
   ]
  },
  {
   "cell_type": "code",
   "execution_count": 7,
   "metadata": {},
   "outputs": [
    {
     "name": "stdout",
     "output_type": "stream",
     "text": [
      "10000/10000 [==============================] - 1s 102us/sample - loss: 0.3364 - acc: 0.8808\n"
     ]
    },
    {
     "data": {
      "text/plain": [
       "[0.3364049335956574, 0.8808]"
      ]
     },
     "execution_count": 7,
     "metadata": {},
     "output_type": "execute_result"
    }
   ],
   "source": [
    "#evaluate the model\n",
    "model.evaluate(test_images,test_labels)"
   ]
  },
  {
   "cell_type": "code",
   "execution_count": 8,
   "metadata": {},
   "outputs": [
    {
     "data": {
      "text/plain": [
       "9"
      ]
     },
     "execution_count": 8,
     "metadata": {},
     "output_type": "execute_result"
    }
   ],
   "source": [
    "#predict the output\n",
    "predictions=model.predict(test_images)\n",
    "predictions[0]\n",
    "test_labels[0]"
   ]
  },
  {
   "cell_type": "code",
   "execution_count": 9,
   "metadata": {},
   "outputs": [
    {
     "name": "stdout",
     "output_type": "stream",
     "text": [
      "Epoch 1/10\n",
      "59840/60000 [============================>.] - ETA: 0s - loss: 0.4979 - acc: 0.8260\n",
      "Epoch 00001: saving model to firstway/train.ckpt\n",
      "60000/60000 [==============================] - 9s 145us/sample - loss: 0.4976 - acc: 0.8260\n",
      "Epoch 2/10\n",
      "59808/60000 [============================>.] - ETA: 0s - loss: 0.3727 - acc: 0.8648\n",
      "Epoch 00002: saving model to firstway/train.ckpt\n",
      "60000/60000 [==============================] - 8s 135us/sample - loss: 0.3724 - acc: 0.8649\n",
      "Epoch 3/10\n",
      "59648/60000 [============================>.] - ETA: 0s - loss: 0.3363 - acc: 0.8775\n",
      "Epoch 00003: saving model to firstway/train.ckpt\n",
      "60000/60000 [==============================] - 8s 134us/sample - loss: 0.3360 - acc: 0.8777\n",
      "Epoch 4/10\n",
      "59936/60000 [============================>.] - ETA: 0s - loss: 0.3136 - acc: 0.8843\n",
      "Epoch 00004: saving model to firstway/train.ckpt\n",
      "60000/60000 [==============================] - 8s 127us/sample - loss: 0.3135 - acc: 0.8843\n",
      "Epoch 5/10\n",
      "59872/60000 [============================>.] - ETA: 0s - loss: 0.2947 - acc: 0.8914\n",
      "Epoch 00005: saving model to firstway/train.ckpt\n",
      "60000/60000 [==============================] - 8s 138us/sample - loss: 0.2946 - acc: 0.8914\n",
      "Epoch 6/10\n",
      "59776/60000 [============================>.] - ETA: 0s - loss: 0.2802 - acc: 0.8971\n",
      "Epoch 00006: saving model to firstway/train.ckpt\n",
      "60000/60000 [==============================] - 8s 140us/sample - loss: 0.2806 - acc: 0.8969\n",
      "Epoch 7/10\n",
      "59616/60000 [============================>.] - ETA: 0s - loss: 0.2691 - acc: 0.8996\n",
      "Epoch 00007: saving model to firstway/train.ckpt\n",
      "60000/60000 [==============================] - 8s 135us/sample - loss: 0.2691 - acc: 0.8995\n",
      "Epoch 8/10\n",
      "59808/60000 [============================>.] - ETA: 0s - loss: 0.2593 - acc: 0.9036\n",
      "Epoch 00008: saving model to firstway/train.ckpt\n",
      "60000/60000 [==============================] - 8s 134us/sample - loss: 0.2596 - acc: 0.9035\n",
      "Epoch 9/10\n",
      "59616/60000 [============================>.] - ETA: 0s - loss: 0.2492 - acc: 0.9074\n",
      "Epoch 00009: saving model to firstway/train.ckpt\n",
      "60000/60000 [==============================] - 8s 135us/sample - loss: 0.2496 - acc: 0.9074\n",
      "Epoch 10/10\n",
      "59968/60000 [============================>.] - ETA: 0s - loss: 0.2391 - acc: 0.9102\n",
      "Epoch 00010: saving model to firstway/train.ckpt\n",
      "60000/60000 [==============================] - 8s 133us/sample - loss: 0.2391 - acc: 0.9102\n"
     ]
    },
    {
     "data": {
      "text/plain": [
       "<tensorflow.python.keras.callbacks.History at 0x1be631effc8>"
      ]
     },
     "execution_count": 9,
     "metadata": {},
     "output_type": "execute_result"
    }
   ],
   "source": [
    "#1. using callbacks modelcheckpoint\n",
    "path='firstway/train.ckpt'\n",
    "callbck=keras.callbacks.ModelCheckpoint(filepath=path,\n",
    "                                        save_weights_only=False,\n",
    "                                        verbose=1)\n",
    "first_way_model=create_model()\n",
    "first_way_model.fit(train_images,train_labels,epochs=10,callbacks=[callbck])"
   ]
  },
  {
   "cell_type": "code",
   "execution_count": 10,
   "metadata": {
    "scrolled": true
   },
   "outputs": [
    {
     "name": "stdout",
     "output_type": "stream",
     "text": [
      "WARNING:tensorflow:From C:\\Users\\Sarvanan\\Anaconda3\\lib\\site-packages\\tensorflow\\python\\ops\\init_ops.py:97: calling GlorotUniform.__init__ (from tensorflow.python.ops.init_ops) with dtype is deprecated and will be removed in a future version.\n",
      "Instructions for updating:\n",
      "Call initializer instance with the dtype argument instead of passing it to the constructor\n",
      "WARNING:tensorflow:From C:\\Users\\Sarvanan\\Anaconda3\\lib\\site-packages\\tensorflow\\python\\ops\\init_ops.py:97: calling Zeros.__init__ (from tensorflow.python.ops.init_ops) with dtype is deprecated and will be removed in a future version.\n",
      "Instructions for updating:\n",
      "Call initializer instance with the dtype argument instead of passing it to the constructor\n",
      "10000/10000 [==============================] - 1s 94us/sample - loss: 0.3448 - acc: 0.8764\n"
     ]
    },
    {
     "data": {
      "text/plain": [
       "[0.3447960916399956, 0.8764]"
      ]
     },
     "execution_count": 10,
     "metadata": {},
     "output_type": "execute_result"
    }
   ],
   "source": [
    "#if save_weights_only value is True i.e it would save only weights so use the below two lines of codes\n",
    "#restore_model=create_model()\n",
    "#restore_model.load_weights(path)\n",
    "\n",
    "#if save_weights_only value is False i.e it would save the entire model so use the below line\n",
    "restore_model=keras.models.load_model(path)\n",
    "restore_model.evaluate(test_images,test_labels)"
   ]
  },
  {
   "cell_type": "code",
   "execution_count": 11,
   "metadata": {},
   "outputs": [],
   "source": [
    "#2. Using hd5 file format\n",
    "#save model as h5\n",
    "model.save('second_way.h5')"
   ]
  },
  {
   "cell_type": "code",
   "execution_count": 12,
   "metadata": {},
   "outputs": [
    {
     "name": "stdout",
     "output_type": "stream",
     "text": [
      "10000/10000 [==============================] - 1s 85us/sample - loss: 0.3364 - acc: 0.8808\n"
     ]
    },
    {
     "data": {
      "text/plain": [
       "[0.3364049335956574, 0.8808]"
      ]
     },
     "execution_count": 12,
     "metadata": {},
     "output_type": "execute_result"
    }
   ],
   "source": [
    "#restoring the h5 model\n",
    "restore_model=keras.models.load_model('second_way.h5')\n",
    "restore_model.evaluate(test_images,test_labels)"
   ]
  },
  {
   "cell_type": "code",
   "execution_count": 13,
   "metadata": {},
   "outputs": [],
   "source": [
    "#3. Using savedmodel\n",
    "model.save('third_way')"
   ]
  },
  {
   "cell_type": "code",
   "execution_count": 14,
   "metadata": {},
   "outputs": [
    {
     "name": "stdout",
     "output_type": "stream",
     "text": [
      "10000/10000 [==============================] - 1s 102us/sample - loss: 0.3364 - acc: 0.8808\n"
     ]
    },
    {
     "data": {
      "text/plain": [
       "[0.3364049335956574, 0.8808]"
      ]
     },
     "execution_count": 14,
     "metadata": {},
     "output_type": "execute_result"
    }
   ],
   "source": [
    "#restoring the savedmodel\n",
    "restore_model=keras.models.load_model('third_way')\n",
    "restore_model.evaluate(test_images,test_labels)"
   ]
  }
 ],
 "metadata": {
  "kernelspec": {
   "display_name": "Python 3",
   "language": "python",
   "name": "python3"
  },
  "language_info": {
   "codemirror_mode": {
    "name": "ipython",
    "version": 3
   },
   "file_extension": ".py",
   "mimetype": "text/x-python",
   "name": "python",
   "nbconvert_exporter": "python",
   "pygments_lexer": "ipython3",
   "version": "3.7.4"
  }
 },
 "nbformat": 4,
 "nbformat_minor": 2
}
